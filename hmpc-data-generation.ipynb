{
 "cells": [
  {
   "cell_type": "markdown",
   "metadata": {},
   "source": [
    "# Data generation notebook"
   ]
  },
  {
   "cell_type": "code",
   "execution_count": 2,
   "metadata": {
    "collapsed": true
   },
   "outputs": [],
   "source": [
    "import numpy as np\n",
    "import csv"
   ]
  },
  {
   "cell_type": "code",
   "execution_count": 3,
   "metadata": {
    "collapsed": true
   },
   "outputs": [],
   "source": [
    "PROBLEM_SIZE_MAX = 10\n",
    "N_PROBLEMS = 5"
   ]
  },
  {
   "cell_type": "markdown",
   "metadata": {},
   "source": [
    "### General Idea of the project"
   ]
  },
  {
   "cell_type": "code",
   "execution_count": 56,
   "metadata": {
    "collapsed": false
   },
   "outputs": [
    {
     "name": "stdout",
     "output_type": "stream",
     "text": [
      "[[ 0.74874927 -0.07860488  0.          0.        ]\n",
      " [ 1.47259748  1.01950073 -0.79211619  0.        ]\n",
      " [ 0.         -0.49066565 -0.54107278  0.84565709]\n",
      " [ 0.          0.          0.52138069  0.74874927]]\n",
      "[[ 0.93440147 -0.29359124 -0.27674863 -0.1562308 ]\n",
      " [-0.29359124  0.5062608   0.14071417  0.0794363 ]\n",
      " [-0.27674863  0.14071417  1.13411827  0.19008029]\n",
      " [-0.1562308   0.0794363   0.19008029  1.52808078]]\n"
     ]
    }
   ],
   "source": [
    "# generate random nums that will be our eigenvalues\n",
    "\n",
    "#dim = np.random.randint(1, PROBLEM_SIZE_MAX)\n",
    "#dim = np.random.randint(1, 5)\n",
    "dim - 3\n",
    "eigenvalues = np.sort(np.random.randn(dim))\n",
    "\n",
    "# get diagonal matrix from eigenvalues\n",
    "diag = np.diag(eigenvalues)\n",
    "\n",
    "#get orthogonal matrix not to compute inverse\n",
    "tmp = np.zeros((dim,dim))\n",
    "np.fill_diagonal(tmp, np.random.randn(dim))\n",
    "np.fill_diagonal(tmp[:,0:], np.random.randn(dim-1))\n",
    "np.fill_diagonal(tmp[:,1:], np.random.randn(dim-1))\n",
    "np.fill_diagonal(tmp[1:,:], np.random.randn(dim-1))\n",
    "\n",
    "\n",
    "print(tmp)\n",
    "#tmp = np.random.randn(dim,dim)\n",
    "Q, _ = np.linalg.qr(tmp)\n",
    "\n",
    "# construct matrix for eigenproblem M = Q*M*Q^{-1} = Q*M*Q' as Q is orthogonal\n",
    "M = np.dot(np.dot(Q, diag), np.matrix.transpose(Q))\n",
    "\n",
    "# this will be solved by LAPACK solvers\n",
    "# but now we just want to get sure, that the approach works\n",
    "eigenvalues_from_solver = np.sort(np.linalg.eig(M)[0])\n",
    "# first is our apriori answer, second is the solution to eigenproblem we generated\n",
    "np.testing.assert_array_almost_equal(eigenvalues, eigenvalues_from_solver)\n",
    "\n",
    "print(M)"
   ]
  },
  {
   "cell_type": "markdown",
   "metadata": {},
   "source": [
    "### Data storage format\n",
    "\n",
    "```bash\n",
    "data.csv\n",
    "\n",
    "n_problems\n",
    "n0; eig00,eig01,eig02...eig0n0; a000,a001,a002,a003...an0n0 <br>\n",
    "n1; eig10,eig11,eig12...eig1n1; a100,a101,a102,a103...an1n1 \n",
    "...\n",
    "```\n",
    "* n0 means 'first example matrix A0 has n0*n0 dimensionality\n",
    "* eig00 means 'first egienvalue of the first example\n",
    "* a000 means 'first example matrix element in the first row, first column.\n",
    "* ...\n"
   ]
  },
  {
   "cell_type": "code",
   "execution_count": 4,
   "metadata": {
    "collapsed": false
   },
   "outputs": [],
   "source": [
    "def generate_data(problem_size_max, n_examples, type=None):\n",
    "    \n",
    "    if type == 'random_uniform_0_1':\n",
    "        eigenvalues = [np.random.uniform(size=np.random.randint(1, problem_size_max)) for i in range(n_examples)]\n",
    "    elif type == 'uniform_eigenvalues_dist':\n",
    "        raise Exception('NOT IMPLEMENTED ERROR')\n",
    "    else:\n",
    "        # standard normal distr\n",
    "        eigenvalues = [np.random.randn(np.random.randint(1, problem_size_max)) for i in range(n_examples)]\n",
    "        \n",
    "    matrices = []\n",
    "    for e in eigenvalues:\n",
    "        D = np.diag(e)\n",
    "        Q, _ = np.linalg.qr(np.random.randn(len(e),len(e)))\n",
    "        M = np.dot(np.dot(Q,D),np.matrix.transpose(Q))\n",
    "        np.testing.assert_array_almost_equal(np.sort(e), np.sort(np.linalg.eig(M)[0]))\n",
    "        matrices.append(M)\n",
    "    return eigenvalues, matrices"
   ]
  },
  {
   "cell_type": "code",
   "execution_count": 10,
   "metadata": {
    "collapsed": false
   },
   "outputs": [],
   "source": [
    "def write_data(eigenvalues, matrices, filename='data.csv'):\n",
    "    assert len(eigenvalues) == len(matrices)\n",
    "    \n",
    "    with open(filename, 'w') as f:\n",
    "        f.write(str(N_PROBLEMS)+'\\n')\n",
    "        for e,m in zip(eigenvalues, matrices):\n",
    "            line = '{};{};{}\\n'.format(len(e), ','.join(map(str, e)), ','.join(map(str, m.flatten()))) \n",
    "            f.write(line)"
   ]
  },
  {
   "cell_type": "code",
   "execution_count": 11,
   "metadata": {
    "collapsed": false
   },
   "outputs": [
    {
     "name": "stdout",
     "output_type": "stream",
     "text": [
      "Done writing 5 eigenproblems.\n"
     ]
    }
   ],
   "source": [
    "E,M = generate_data(PROBLEM_SIZE_MAX, N_PROBLEMS)\n",
    "write_data(E,M)\n",
    "print('Done writing {} eigenproblems.'.format(N_PROBLEMS))"
   ]
  }
 ],
 "metadata": {
  "kernelspec": {
   "display_name": "Python 3",
   "language": "python",
   "name": "python3"
  },
  "language_info": {
   "codemirror_mode": {
    "name": "ipython",
    "version": 3
   },
   "file_extension": ".py",
   "mimetype": "text/x-python",
   "name": "python",
   "nbconvert_exporter": "python",
   "pygments_lexer": "ipython3",
   "version": "3.4.3+"
  }
 },
 "nbformat": 4,
 "nbformat_minor": 0
}
