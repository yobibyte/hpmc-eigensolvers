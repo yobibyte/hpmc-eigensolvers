{
 "cells": [
  {
   "cell_type": "markdown",
   "metadata": {},
   "source": [
    "# Data generation notebook"
   ]
  },
  {
   "cell_type": "code",
   "execution_count": 67,
   "metadata": {
    "collapsed": true
   },
   "outputs": [],
   "source": [
    "import numpy as np\n",
    "import csv"
   ]
  },
  {
   "cell_type": "code",
   "execution_count": 291,
   "metadata": {
    "collapsed": true
   },
   "outputs": [],
   "source": [
    "PROBLEM_SIZE_MAX = 60\n",
    "N_PROBLEMS = 10"
   ]
  },
  {
   "cell_type": "markdown",
   "metadata": {},
   "source": [
    "### General Idea of the project"
   ]
  },
  {
   "cell_type": "code",
   "execution_count": 274,
   "metadata": {
    "collapsed": false
   },
   "outputs": [],
   "source": [
    "# generate random nums that will be our eigenvalues\n",
    "\n",
    "#dim = np.random.randint(1, PROBLEM_SIZE_MAX)\n",
    "dim = np.random.randint(1, 5)\n",
    "eigenvalues = np.sort(np.random.randn(dim))\n",
    "\n",
    "# get diagonal matrix from eigenvalues\n",
    "diag = np.diag(eigenvalues)\n",
    "\n",
    "# get orthogonal matrix not to compute inverse\n",
    "Q, _ = np.linalg.qr(np.random.randn(dim,dim))\n",
    "\n",
    "\n",
    "# construct matrix for eigenproblem M = Q*M*Q^{-1} = Q*M*Q' as Q is orthogonal\n",
    "M = np.dot(np.dot(Q, diag), np.matrix.transpose(Q))\n",
    "\n",
    "# this will be solved by LAPACK solvers\n",
    "# but now we just want to get sure, that the approach works\n",
    "eigenvalues_from_solver = np.sort(np.linalg.eig(M)[0])\n",
    "# first is our apriori answer, second is the solution to eigenproblem we generated\n",
    "np.testing.assert_array_almost_equal(eigenvalues, eigenvalues_from_solver)"
   ]
  },
  {
   "cell_type": "markdown",
   "metadata": {},
   "source": [
    "### Data storage format\n",
    "\n",
    "```bash\n",
    "data.csv\n",
    "\n",
    "n0; eig00,eig01,eig02...eig0n0; a000,a001,a002,a003...an0n0 <br>\n",
    "n1; eig10,eig11,eig12...eig1n1; a100,a101,a102,a103...an1n1 \n",
    "...\n",
    "```\n",
    "* n0 means 'first example matrix A0 has n0*n0 dimensionality\n",
    "* eig00 means 'first egienvalue of the first example\n",
    "* a000 means 'first example matrix element in the first row, first column.\n",
    "* ...\n"
   ]
  },
  {
   "cell_type": "code",
   "execution_count": 294,
   "metadata": {
    "collapsed": true
   },
   "outputs": [],
   "source": [
    "def generate_data(problem_size_max, n_examples):\n",
    "    eigenvalues = [np.random.randn(np.random.randint(1, problem_size_max)) for i in range(n_examples)]\n",
    "    matrices = []\n",
    "    for e in eigenvalues:\n",
    "        D = np.diag(e)\n",
    "        Q, _ = np.linalg.qr(np.random.randn(len(e),len(e)))\n",
    "        M = np.dot(np.dot(Q,D),np.matrix.transpose(Q))\n",
    "        np.testing.assert_array_almost_equal(np.sort(e), np.sort(np.linalg.eig(M)[0]))\n",
    "        matrices.append(M)\n",
    "    return eigenvalues, matrices"
   ]
  },
  {
   "cell_type": "code",
   "execution_count": 293,
   "metadata": {
    "collapsed": false
   },
   "outputs": [],
   "source": [
    "def write_data(eigenvalues, matrices, filename='data.csv'):\n",
    "    assert len(eigenvalues) == len(matrices)\n",
    "    \n",
    "    with open(filename, 'w') as f:\n",
    "        for e,m in zip(eigenvalues, matrices):\n",
    "            line = '{};{};{}\\n'.format(len(e), ','.join(map(str, e)), ','.join(map(str, m.flatten()))) \n",
    "            f.write(line)"
   ]
  },
  {
   "cell_type": "code",
   "execution_count": 296,
   "metadata": {
    "collapsed": false
   },
   "outputs": [
    {
     "name": "stdout",
     "output_type": "stream",
     "text": [
      "Done writing 10 eigenproblems.\n"
     ]
    }
   ],
   "source": [
    "E,M = generate_data(PROBLEM_SIZE_MAX, N_PROBLEMS)\n",
    "write_data(E,M)\n",
    "print('Done writing {} eigenproblems.'.format(N_PROBLEMS))"
   ]
  }
 ],
 "metadata": {
  "kernelspec": {
   "display_name": "Python 3",
   "language": "python",
   "name": "python3"
  },
  "language_info": {
   "codemirror_mode": {
    "name": "ipython",
    "version": 3
   },
   "file_extension": ".py",
   "mimetype": "text/x-python",
   "name": "python",
   "nbconvert_exporter": "python",
   "pygments_lexer": "ipython3",
   "version": "3.4.3+"
  }
 },
 "nbformat": 4,
 "nbformat_minor": 0
}
