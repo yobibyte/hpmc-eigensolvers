{
 "cells": [
  {
   "cell_type": "markdown",
   "metadata": {},
   "source": [
    "# Data generation notebook"
   ]
  },
  {
   "cell_type": "code",
   "execution_count": 37,
   "metadata": {
    "collapsed": true
   },
   "outputs": [],
   "source": [
    "import numpy as np\n",
    "import csv"
   ]
  },
  {
   "cell_type": "code",
   "execution_count": 38,
   "metadata": {
    "collapsed": true
   },
   "outputs": [],
   "source": [
    "PROBLEM_SIZE_MAX = 20\n",
    "N_PROBLEMS = 5"
   ]
  },
  {
   "cell_type": "markdown",
   "metadata": {},
   "source": [
    "### General Idea of the project"
   ]
  },
  {
   "cell_type": "code",
   "execution_count": 39,
   "metadata": {
    "collapsed": false
   },
   "outputs": [
    {
     "name": "stdout",
     "output_type": "stream",
     "text": [
      "[[ 0.56122037 -0.01634241 -0.05888313 -0.35382289]\n",
      " [-0.01634241 -0.54644802 -0.28135098 -0.04470847]\n",
      " [-0.05888313 -0.28135098 -0.78705086 -0.04902343]\n",
      " [-0.35382289 -0.04470847 -0.04902343 -0.23432177]]\n",
      "[0.56122037410205594, -0.016342410201008382, -0.058883126956762052, -0.35382288561701203, -0.54644801522915254, -0.28135097541162529, -0.04470846896494067, -0.78705085529567154, -0.049023430562209792, -0.23432177481232697]\n"
     ]
    }
   ],
   "source": [
    "# generate random nums that will be our eigenvalues\n",
    "\n",
    "dim = np.random.randint(1, PROBLEM_SIZE_MAX)\n",
    "eigenvalues = np.sort(np.random.randn(dim))\n",
    "\n",
    "# get diagonal matrix from eigenvalues\n",
    "diag = np.diag(eigenvalues)\n",
    "\n",
    "#get orthogonal matrix not to compute inverse\n",
    "Q, _ = np.linalg.qr(np.random.randn(dim, dim))\n",
    "\n",
    "# construct matrix for eigenproblem M = Q*M*Q^{-1} = Q*M*Q' as Q is orthogonal\n",
    "M = np.dot(np.dot(Q, diag), np.matrix.transpose(Q))\n",
    "\n",
    "# this will be solved by LAPACK solvers\n",
    "# but now we just want to get sure, that the approach works\n",
    "eigenvalues_from_solver = np.sort(np.linalg.eig(M)[0])\n",
    "# first is our apriori answer, second is the solution to eigenproblem we generated\n",
    "np.testing.assert_array_almost_equal(eigenvalues, eigenvalues_from_solver)\n",
    "\n",
    "print(M)\n",
    "\n",
    "def to_upper_triangular(M):\n",
    "    K = []\n",
    "    for i in range(M.shape[0]):\n",
    "        K.extend(M[i][i:])\n",
    "    return K\n",
    "\n",
    "print(to_upper_triangular(M))"
   ]
  },
  {
   "cell_type": "markdown",
   "metadata": {},
   "source": [
    "### Data storage format\n",
    "\n",
    "```bash\n",
    "data.csv\n",
    "\n",
    "n_problems\n",
    "n0; eig00,eig01,eig02...eig0n0; a000,a001,a002,a003...an0n0 <br>\n",
    "n1; eig10,eig11,eig12...eig1n1; a100,a101,a102,a103...an1n1 \n",
    "...\n",
    "```\n",
    "* n0 means 'first example matrix A0 has n0*n0 dimensionality\n",
    "* eig00 means 'first egienvalue of the first example\n",
    "* a000 means 'first example matrix element in the first row, first column.\n",
    "* ...\n"
   ]
  },
  {
   "cell_type": "code",
   "execution_count": 40,
   "metadata": {
    "collapsed": false
   },
   "outputs": [],
   "source": [
    "def generate_data(problem_size_max, n_examples, type=None):\n",
    "    \n",
    "    if type == 'random_uniform_0_1':\n",
    "        eigenvalues = [np.random.uniform(size=np.random.randint(10, problem_size_max)) for i in range(n_examples)]\n",
    "    elif type == 'uniform_eigenvalues_dist':\n",
    "        raise Exception('NOT IMPLEMENTED ERROR')\n",
    "    else:\n",
    "        # standard normal distr\n",
    "        eigenvalues = [np.random.randn(np.random.randint(10, problem_size_max)) for i in range(n_examples)]\n",
    "        \n",
    "    matrices = []\n",
    "    for e in eigenvalues:\n",
    "        D = np.diag(e)\n",
    "        Q, _ = np.linalg.qr(np.random.randn(len(e),len(e)))\n",
    "        M = np.dot(np.dot(Q,D),np.matrix.transpose(Q))\n",
    "        np.testing.assert_array_almost_equal(np.sort(e), np.sort(np.linalg.eig(M)[0]))\n",
    "        #matrices.append(to_upper_triangular(M))\n",
    "        matrices.append(M.flatten())\n",
    "    return eigenvalues, matrices"
   ]
  },
  {
   "cell_type": "code",
   "execution_count": 41,
   "metadata": {
    "collapsed": false
   },
   "outputs": [],
   "source": [
    "def write_data(eigenvalues, matrices, filename='data.csv'):\n",
    "    assert len(eigenvalues) == len(matrices)\n",
    "    \n",
    "    with open(filename, 'w') as f:\n",
    "        f.write(str(N_PROBLEMS)+'\\n')\n",
    "        for e,m in zip(eigenvalues, matrices):\n",
    "            line = '{};{};{}\\n'.format(len(e), ','.join(map(str, e)), ','.join(map(str, m))) \n",
    "            f.write(line)"
   ]
  },
  {
   "cell_type": "code",
   "execution_count": 42,
   "metadata": {
    "collapsed": false
   },
   "outputs": [
    {
     "name": "stdout",
     "output_type": "stream",
     "text": [
      "Done writing 5 eigenproblems.\n"
     ]
    }
   ],
   "source": [
    "E,M = generate_data(PROBLEM_SIZE_MAX, N_PROBLEMS)\n",
    "write_data(E,M)\n",
    "print('Done writing {} eigenproblems.'.format(N_PROBLEMS))"
   ]
  }
 ],
 "metadata": {
  "kernelspec": {
   "display_name": "Python 3",
   "language": "python",
   "name": "python3"
  },
  "language_info": {
   "codemirror_mode": {
    "name": "ipython",
    "version": 3
   },
   "file_extension": ".py",
   "mimetype": "text/x-python",
   "name": "python",
   "nbconvert_exporter": "python",
   "pygments_lexer": "ipython3",
   "version": "3.5.2"
  }
 },
 "nbformat": 4,
 "nbformat_minor": 0
}
