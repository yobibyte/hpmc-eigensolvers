{
 "cells": [
  {
   "cell_type": "markdown",
   "metadata": {},
   "source": [
    "# Data generation notebook"
   ]
  },
  {
   "cell_type": "code",
   "execution_count": 1,
   "metadata": {
    "collapsed": false
   },
   "outputs": [],
   "source": [
    "import numpy as np\n",
    "import csv\n",
    "from os import system as bash_call"
   ]
  },
  {
   "cell_type": "code",
   "execution_count": 2,
   "metadata": {
    "collapsed": false
   },
   "outputs": [],
   "source": [
    "N_PROBLEMS = 1000\n",
    "DATA_FOLDER = 'data/'\n",
    "# this line will change N_PROBLEMS in src file\n",
    "command =\"sed -i '/#define N_PROBLEMS/c\\#define N_PROBLEMS {}' evaluate.c\".format(N_PROBLEMS)\n",
    "bash_call(command);"
   ]
  },
  {
   "cell_type": "markdown",
   "metadata": {},
   "source": [
    "### General Idea of the project"
   ]
  },
  {
   "cell_type": "code",
   "execution_count": 3,
   "metadata": {
    "collapsed": false
   },
   "outputs": [],
   "source": [
    "# generate random nums that will be our eigenvalues\n",
    "\n",
    "#dim = np.random.randint(1, 10)\n",
    "dim = 100\n",
    "eigenvalues = np.sort(np.random.randn(dim))\n",
    "# get diagonal matrix from eigenvalues\n",
    "diag = np.diag(eigenvalues)\n",
    "\n",
    "#get orthogonal matrix not to compute inverse\n",
    "Q, _ = np.linalg.qr(np.random.randn(dim, dim))\n",
    "\n",
    "# construct matrix for eigenproblem M = Q*M*Q^{-1} = Q*M*Q' as Q is orthogonal\n",
    "M = np.dot(np.dot(Q, diag), np.matrix.transpose(Q))\n",
    "\n",
    "# this will be solved by LAPACK solvers\n",
    "# but now we just want to get sure, that the approach works\n",
    "eigenvalues_from_solver = np.sort(np.linalg.eig(M)[0])\n",
    "# first is our apriori answer, second is the solution to eigenproblem we generated\n",
    "np.testing.assert_array_almost_equal(eigenvalues, eigenvalues_from_solver)\n",
    "\n",
    "#print(M)\n",
    "\n",
    "def to_upper_triangular(M):\n",
    "    K = []\n",
    "    for i in range(M.shape[0]):\n",
    "        K.extend(M[i][i:])\n",
    "    return K\n",
    "#print(np.sort(eigenvalues))\n",
    "#print(to_upper_triangular(M))"
   ]
  },
  {
   "cell_type": "code",
   "execution_count": 4,
   "metadata": {
    "collapsed": false
   },
   "outputs": [
    {
     "name": "stdout",
     "output_type": "stream",
     "text": [
      "1.07800227078e-12\n"
     ]
    }
   ],
   "source": [
    "# test loss of orthogonality\n",
    "t = np.linalg.eig(M)[1]\n",
    "print(np.max(np.abs(np.dot(t.T, t)-np.eye(dim))))"
   ]
  },
  {
   "cell_type": "markdown",
   "metadata": {},
   "source": [
    "### Data storage format\n",
    "\n",
    "```bash\n",
    "data.csv\n",
    "\n",
    "n_problems\n",
    "n0; eig00,eig01,eig02...eig0n0; a000,a001,a002,a003...an0n0\n",
    "n1; eig10,eig11,eig12...eig1n1; a100,a101,a102,a103...an1n1 \n",
    "...\n",
    "```\n",
    "* n0 means 'first example matrix A0 has n0*n0 dimensionality\n",
    "* eig00 means 'first egienvalue of the first example\n",
    "* a000 means 'first example matrix element in the first row, first column.\n",
    "* ...\n"
   ]
  },
  {
   "cell_type": "code",
   "execution_count": 5,
   "metadata": {
    "collapsed": false
   },
   "outputs": [],
   "source": [
    "def generate_data(problem_size, n_examples, eps=1e-5, type=None):\n",
    "    # page http://arxiv.org/pdf/1401.4950v1.pdf\n",
    "    \n",
    "    if type == 'standard-random-uniform':\n",
    "        eigenvalues = [np.random.uniform(size=problem_size) for i in range(n_examples)]\n",
    "    elif type == 'uniform-eigenvalues-dist':\n",
    "        eigenvalues = [eps+(k-1)*(1-eps)/(n_examples-1) for k in range(n_examples)]\n",
    "    else:\n",
    "        # standard normal distr\n",
    "        eigenvalues = [np.sort(np.random.randn(problem_size)) for i in range(n_examples)]\n",
    "        \n",
    "    matrices = []\n",
    "    for e in eigenvalues:\n",
    "        D = np.diag(e)\n",
    "        Q, _ = np.linalg.qr(np.random.randn(len(e),len(e)))\n",
    "        M = np.dot(np.dot(Q,D),np.matrix.transpose(Q))\n",
    "        #np.testing.assert_array_almost_equal(np.sort(e), np.sort(np.linalg.eig(M)[0]))\n",
    "        #matrices.append(to_upper_triangular(M))\n",
    "        matrices.append(M.flatten())\n",
    "    return eigenvalues, matrices"
   ]
  },
  {
   "cell_type": "code",
   "execution_count": 6,
   "metadata": {
    "collapsed": false
   },
   "outputs": [],
   "source": [
    "def write_data(eigenvalues, matrices, filename='data.csv'):\n",
    "    assert len(eigenvalues) == len(matrices)\n",
    "    \n",
    "    with open(filename, 'w') as f:\n",
    "        f.write(str(N_PROBLEMS)+'\\n')\n",
    "        for e,m in zip(eigenvalues, matrices):\n",
    "            line = '{};{};{}\\n'.format(len(e), ','.join(map(str, e)), ','.join(map(str, m))) \n",
    "            f.write(line)"
   ]
  },
  {
   "cell_type": "code",
   "execution_count": 7,
   "metadata": {
    "collapsed": false
   },
   "outputs": [
    {
     "name": "stdout",
     "output_type": "stream",
     "text": [
      "Done writing eigenproblems.\n"
     ]
    }
   ],
   "source": [
    "for i in range(10, 51, 10):\n",
    "    for t in ['standard-random-uniform', 'uniform-eigenvalues-dist']:\n",
    "        E,M = generate_data(i, N_PROBLEMS)\n",
    "        write_data(E,M, DATA_FOLDER+t+'_'+str(i)+'.csv')\n",
    "\n",
    "print('Done writing eigenproblems.')"
   ]
  }
 ],
 "metadata": {
  "kernelspec": {
   "display_name": "Python 3",
   "language": "python",
   "name": "python3"
  },
  "language_info": {
   "codemirror_mode": {
    "name": "ipython",
    "version": 3
   },
   "file_extension": ".py",
   "mimetype": "text/x-python",
   "name": "python",
   "nbconvert_exporter": "python",
   "pygments_lexer": "ipython3",
   "version": "3.5.2"
  }
 },
 "nbformat": 4,
 "nbformat_minor": 0
}
