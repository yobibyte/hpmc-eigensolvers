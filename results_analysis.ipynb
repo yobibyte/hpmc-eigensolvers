{
 "cells": [
  {
   "cell_type": "code",
   "execution_count": 2,
   "metadata": {
    "collapsed": true
   },
   "outputs": [],
   "source": [
    "import os\n",
    "import numpy as np\n",
    "import csv\n",
    "\n",
    "import matplotlib.pyplot as plt\n",
    "%matplotlib inline"
   ]
  },
  {
   "cell_type": "code",
   "execution_count": 3,
   "metadata": {
    "collapsed": true
   },
   "outputs": [],
   "source": [
    "RES_FOLDER = 'res'"
   ]
  },
  {
   "cell_type": "markdown",
   "metadata": {},
   "source": [
    "### Speed vs Accuracy analysis"
   ]
  },
  {
   "cell_type": "code",
   "execution_count": 75,
   "metadata": {
    "collapsed": false
   },
   "outputs": [],
   "source": [
    "def load_data_sva(res_folder):\n",
    "    data = {}\n",
    "    data_types = set(f.split('_')[2] for f in os.listdir(res_folder))\n",
    "    algos = set(f.split('_')[0] for f in os.listdir(res_folder))\n",
    "    p_sizes = set(int(f.split('_')[3].replace('.csv', '')) for f in os.listdir(res_folder))\n",
    "    \n",
    "    for t in data_types:\n",
    "        data[t] = {}\n",
    "        for a in algos:\n",
    "            data[t][a] = {}\n",
    "            for s in p_sizes:\n",
    "                data[t][a][s] = []\n",
    "                \n",
    "    for f in os.listdir(res_folder):\n",
    "        meta = f.split('_')\n",
    "        c_type = meta[2]\n",
    "        a_type = meta[0]\n",
    "        p_size = int(meta[3].replace('.csv', ''))\n",
    "   \n",
    "        with open(os.path.join(res_folder, f), 'r') as csvfile:      \n",
    "            reader = csv.reader(csvfile, delimiter=',')\n",
    "            for row in reader:\n",
    "                data[c_type][a_type][p_size].append(list(map(float, row[0].split(';'))))\n",
    "    return data\n",
    "\n",
    "def load_data_fga(res_folder):\n",
    "    data = {}\n",
    "    data_types = set(f.split('_')[2] for f in os.listdir(res_folder))\n",
    "    algos = set(f.split('_')[0] for f in os.listdir(res_folder))\n",
    "    p_sizes = set(int(f.split('_')[3].replace('.csv', '')) for f in os.listdir(res_folder))\n",
    "    acc_lvls = set(f.split('_')[1].replace('.csv', '') for f in os.listdir(res_folder)) - {'high', 'low'}\n",
    "    \n",
    "    for t in data_types:\n",
    "        data[t] = {}\n",
    "        for a in algos:\n",
    "            data[t][a] = {}\n",
    "            if a == 'dstemr':\n",
    "                data[t][a]['low'] = {}\n",
    "                data[t][a]['high'] = {}\n",
    "                for s in p_sizes:\n",
    "                    data[t][a]['low'][s] = []\n",
    "                    data[t][a]['high'][s] = []  \n",
    "            elif a == 'dstevx':\n",
    "                for lvl in acc_lvls:\n",
    "                    data[t][a][float(lvl)] = {}\n",
    "                    for s in p_sizes:\n",
    "                        data[t][a][float(lvl)][s] = []\n",
    "            else:\n",
    "                print(\"IF YOU ARE HERE, I HAVE BAD NEWS FOR YOU?\")\n",
    "\n",
    "    for f in os.listdir(res_folder):\n",
    "        meta = f.split('_')\n",
    "        c_type = meta[2]\n",
    "        a_type = meta[0]\n",
    "        p_size = int(meta[3].replace('.csv', ''))\n",
    "        if meta[1] == 'low' or meta[1] == 'high':\n",
    "            acc_lvl = meta[1]\n",
    "        else:\n",
    "            acc_lvl = float(meta[1])\n",
    "        \n",
    "        with open(os.path.join(res_folder, f), 'r') as csvfile:      \n",
    "            reader = csv.reader(csvfile, delimiter=',')\n",
    "            for row in reader:\n",
    "                data[c_type][a_type][acc_lvl][p_size].append(list(map(float, row[0].split(';'))))\n",
    "    return data\n",
    "                    \n",
    "data_sva = load_data_sva(RES_FOLDER + '/speed-vs-accuracy')\n",
    "data_fga = load_data_fga(RES_FOLDER + '/flops-given-accuracy')"
   ]
  },
  {
   "cell_type": "markdown",
   "metadata": {},
   "source": [
    "### <font color='red'>Speed</font> (real time / problem size) VS <font color='red'>accuracy</font>"
   ]
  },
  {
   "cell_type": "code",
   "execution_count": 48,
   "metadata": {
    "collapsed": false
   },
   "outputs": [
    {
     "data": {
      "image/png": "[encoded data removed]",
      "text/plain": [
       "<matplotlib.figure.Figure at 0x7f7b14378978>"
      ]
     },
     "metadata": {},
     "output_type": "display_data"
    }
   ],
   "source": [
    "for i in range(10, 51, 10):\n",
    "    d = np.array(data_sva['standard-random-uniform']['dstevx'][i])\n",
    "    plt.scatter(d[1]/i, d[0])\n",
    "    \n",
    "for i in range(10, 51, 10):\n",
    "    d = np.array(data_sva['standard-random-uniform']['dstemr'][i])\n",
    "    plt.scatter(d[1]/i, d[0], color='red')\n",
    "    \n",
    "for i in range(10, 51, 10):\n",
    "    d = np.array(data_sva['standard-random-uniform']['dsteqr'][i])\n",
    "    plt.scatter(d[1]/i, d[0], color='green')"
   ]
  },
  {
   "cell_type": "markdown",
   "metadata": {},
   "source": [
    "### <font color='red'>FLOPS</font> (real time / problem size) given <font color='red'>accuracy</font>"
   ]
  },
  {
   "cell_type": "code",
   "execution_count": 73,
   "metadata": {
    "collapsed": false
   },
   "outputs": [
    {
     "data": {
      "image/png": "[encoded data removed]",
      "text/plain": [
       "<matplotlib.figure.Figure at 0x7f7b13c51dd8>"
      ]
     },
     "metadata": {},
     "output_type": "display_data"
    }
   ],
   "source": [
    "cols = ['blue', 'red', 'green', 'magenta']\n",
    "\n",
    "for c, k in enumerate(data_fga['standard-random-uniform']['dstevx'].keys()):\n",
    "    for i in range(50, 51, 10):\n",
    "        d = np.array(data_fga['standard-random-uniform']['dstevx'][k][i])\n",
    "        plt.scatter([k for t in range(len(d[2]))], d[2], color=cols[c])\n",
    "\n",
    "cols = ['black', 'cyan', 'yellow', '#aaaaaa']\n",
    "        \n",
    "for c, k in enumerate(data_fga['standard-random-uniform']['dstemr'].keys()):\n",
    "    for i in range(50, 51, 10):\n",
    "        d = np.array(data_fga['standard-random-uniform']['dstemr'][k][i])\n",
    "        plt.scatter([0.1 if k=='low' else 0.2 for t in range(len(d[2]))], d[2], color=cols[c])"
   ]
  },
  {
   "cell_type": "markdown",
   "metadata": {},
   "source": [
    "### <font color='red'>Actual accuracy</font> (loss of orthogonality) vs <font color='red'>accuracy level</font>"
   ]
  },
  {
   "cell_type": "code",
   "execution_count": 74,
   "metadata": {
    "collapsed": false
   },
   "outputs": [
    {
     "data": {
      "image/png": "[encoded data removed]",
      "text/plain": [
       "<matplotlib.figure.Figure at 0x7f7b1434f780>"
      ]
     },
     "metadata": {},
     "output_type": "display_data"
    }
   ],
   "source": [
    "cols = ['blue', 'red', 'green', 'magenta']\n",
    "\n",
    "for c, k in enumerate(data_fga['standard-random-uniform']['dstevx'].keys()):\n",
    "    for i in range(10, 51, 10):\n",
    "        d = np.array(data_fga['standard-random-uniform']['dstevx'][k][i])\n",
    "        plt.scatter([k for t in range(len(d[2]))], d[0], color=cols[c])\n",
    "\n",
    "cols = ['black', 'cyan', 'yellow', '#aaaaaa']\n",
    "        \n",
    "for c, k in enumerate(data_fga['standard-random-uniform']['dstemr'].keys()):\n",
    "    for i in range(50, 51, 10):\n",
    "        d = np.array(data_fga['standard-random-uniform']['dstemr'][k][i])\n",
    "        plt.scatter([0.1 if k=='low' else 0.2 for t in range(len(d[2]))], d[0], color=cols[c])"
   ]
  }
 ],
 "metadata": {
  "kernelspec": {
   "display_name": "Python 3",
   "language": "python",
   "name": "python3"
  },
  "language_info": {
   "codemirror_mode": {
    "name": "ipython",
    "version": 3
   },
   "file_extension": ".py",
   "mimetype": "text/x-python",
   "name": "python",
   "nbconvert_exporter": "python",
   "pygments_lexer": "ipython3",
   "version": "3.5.2"
  }
 },
 "nbformat": 4,
 "nbformat_minor": 0
}
